{
  "cells": [
    {
      "cell_type": "markdown",
      "source": [
        "##Importing libraries"
      ],
      "metadata": {
        "id": "8mCK6R9geuIf"
      },
      "id": "8mCK6R9geuIf"
    },
    {
      "cell_type": "code",
      "execution_count": 10,
      "id": "5575f14b",
      "metadata": {
        "id": "5575f14b"
      },
      "outputs": [],
      "source": [
        "import pandas as pd\n",
        "import numpy as np"
      ]
    },
    {
      "cell_type": "markdown",
      "source": [
        "##Importing Dataset"
      ],
      "metadata": {
        "id": "nHNHzLeoevbS"
      },
      "id": "nHNHzLeoevbS"
    },
    {
      "cell_type": "code",
      "execution_count": 11,
      "id": "ce9871aa",
      "metadata": {
        "id": "ce9871aa"
      },
      "outputs": [],
      "source": [
        "dataset = pd.read_csv('IMDB Dataset.csv')"
      ]
    },
    {
      "cell_type": "markdown",
      "source": [
        "##Checking the Dataset if it has null values"
      ],
      "metadata": {
        "id": "bcp5Gkywev72"
      },
      "id": "bcp5Gkywev72"
    },
    {
      "cell_type": "code",
      "execution_count": 12,
      "id": "f319b81c",
      "metadata": {
        "id": "f319b81c",
        "colab": {
          "base_uri": "https://localhost:8080/",
          "height": 147
        },
        "outputId": "e1edac52-783d-4be4-d1c3-cc2fd5fc37cf"
      },
      "outputs": [
        {
          "output_type": "execute_result",
          "data": {
            "text/plain": [
              "review       0\n",
              "sentiment    0\n",
              "dtype: int64"
            ],
            "text/html": [
              "<div>\n",
              "<style scoped>\n",
              "    .dataframe tbody tr th:only-of-type {\n",
              "        vertical-align: middle;\n",
              "    }\n",
              "\n",
              "    .dataframe tbody tr th {\n",
              "        vertical-align: top;\n",
              "    }\n",
              "\n",
              "    .dataframe thead th {\n",
              "        text-align: right;\n",
              "    }\n",
              "</style>\n",
              "<table border=\"1\" class=\"dataframe\">\n",
              "  <thead>\n",
              "    <tr style=\"text-align: right;\">\n",
              "      <th></th>\n",
              "      <th>0</th>\n",
              "    </tr>\n",
              "  </thead>\n",
              "  <tbody>\n",
              "    <tr>\n",
              "      <th>review</th>\n",
              "      <td>0</td>\n",
              "    </tr>\n",
              "    <tr>\n",
              "      <th>sentiment</th>\n",
              "      <td>0</td>\n",
              "    </tr>\n",
              "  </tbody>\n",
              "</table>\n",
              "</div><br><label><b>dtype:</b> int64</label>"
            ]
          },
          "metadata": {},
          "execution_count": 12
        }
      ],
      "source": [
        "dataset.isnull().sum()"
      ]
    },
    {
      "cell_type": "markdown",
      "source": [
        "##Importing nessesary libraries for text extraction and Regression"
      ],
      "metadata": {
        "id": "EK3YKxiCew55"
      },
      "id": "EK3YKxiCew55"
    },
    {
      "cell_type": "code",
      "execution_count": 13,
      "id": "b4d2e68f",
      "metadata": {
        "id": "b4d2e68f",
        "colab": {
          "base_uri": "https://localhost:8080/"
        },
        "outputId": "3aff58b0-83fb-4bac-c7da-b2d765bad615"
      },
      "outputs": [
        {
          "output_type": "stream",
          "name": "stderr",
          "text": [
            "[nltk_data] Downloading package stopwords to /root/nltk_data...\n",
            "[nltk_data]   Unzipping corpora/stopwords.zip.\n"
          ]
        }
      ],
      "source": [
        "import re\n",
        "import nltk\n",
        "nltk.download('stopwords')\n",
        "from nltk.corpus import stopwords\n",
        "from nltk.stem.porter import PorterStemmer\n",
        "from sklearn.feature_extraction.text import CountVectorizer\n",
        "from sklearn.linear_model import LogisticRegression\n",
        "from sklearn.svm import LinearSVC\n",
        "from sklearn.naive_bayes import MultinomialNB\n",
        "from sklearn.preprocessing import LabelEncoder"
      ]
    },
    {
      "cell_type": "markdown",
      "source": [
        "##Converting the sentences into root form"
      ],
      "metadata": {
        "id": "x_yX0LR4exVQ"
      },
      "id": "x_yX0LR4exVQ"
    },
    {
      "cell_type": "code",
      "execution_count": 14,
      "id": "af81fa7f",
      "metadata": {
        "id": "af81fa7f"
      },
      "outputs": [],
      "source": [
        "ps = PorterStemmer()\n",
        "all_stopwords = set(stopwords.words('english'))\n",
        "all_stopwords -= {'not', 'no', 'very', 'the', 'a', 'is'}\n",
        "\n",
        "corpus = []\n",
        "for review in dataset.iloc[:,0]:\n",
        "    text = re.sub('[^a-zA-Z]', ' ', review)\n",
        "    text = text.lower().split()\n",
        "    text = [ps.stem(word) for word in text if word not in all_stopwords]\n",
        "    corpus.append(' '.join(text))"
      ]
    },
    {
      "cell_type": "markdown",
      "source": [
        "##Label encoding the test set"
      ],
      "metadata": {
        "id": "70xvWAtzgsYU"
      },
      "id": "70xvWAtzgsYU"
    },
    {
      "cell_type": "code",
      "source": [
        "y = dataset.iloc[:,1]\n",
        "le = LabelEncoder()\n",
        "y = le.fit_transform(y)"
      ],
      "metadata": {
        "id": "14wHQuWJgpih"
      },
      "id": "14wHQuWJgpih",
      "execution_count": 15,
      "outputs": []
    },
    {
      "cell_type": "markdown",
      "source": [
        "##Splitting the Data"
      ],
      "metadata": {
        "id": "GsfYEL_sex64"
      },
      "id": "GsfYEL_sex64"
    },
    {
      "cell_type": "code",
      "execution_count": 16,
      "id": "c3dfc539",
      "metadata": {
        "id": "c3dfc539"
      },
      "outputs": [],
      "source": [
        "from sklearn.model_selection import train_test_split\n",
        "X_train, X_test, y_train, y_test = train_test_split(corpus, y, test_size=0.2, random_state=0)"
      ]
    },
    {
      "cell_type": "markdown",
      "source": [
        "##Creating BoW Vectorization"
      ],
      "metadata": {
        "id": "CwvAwvkcfiGB"
      },
      "id": "CwvAwvkcfiGB"
    },
    {
      "cell_type": "code",
      "execution_count": 17,
      "id": "06bc57a1",
      "metadata": {
        "id": "06bc57a1"
      },
      "outputs": [],
      "source": [
        "bag_vectorizer = CountVectorizer(max_features=5000)\n",
        "X_train_bag = bag_vectorizer.fit_transform(X_train)\n",
        "X_test_bag = bag_vectorizer.transform(X_test)"
      ]
    },
    {
      "cell_type": "markdown",
      "source": [
        "##Using Logistic Regression and training on training set"
      ],
      "metadata": {
        "id": "NQ9N6BMJfmXD"
      },
      "id": "NQ9N6BMJfmXD"
    },
    {
      "cell_type": "code",
      "execution_count": 18,
      "id": "909c8210",
      "metadata": {
        "id": "909c8210"
      },
      "outputs": [],
      "source": [
        "logistic_bag = LogisticRegression(max_iter=10000)\n",
        "logistic_bag.fit(X_train_bag, y_train)\n",
        "pred_logistic_bag = logistic_bag.predict(X_test_bag)"
      ]
    },
    {
      "cell_type": "markdown",
      "source": [
        "##Using Linear SVC and training on training set"
      ],
      "metadata": {
        "id": "ZsKERUkcfnJc"
      },
      "id": "ZsKERUkcfnJc"
    },
    {
      "cell_type": "code",
      "execution_count": 19,
      "id": "a7b9a4a7",
      "metadata": {
        "id": "a7b9a4a7"
      },
      "outputs": [],
      "source": [
        "svc_bag = LinearSVC(max_iter=10000, random_state=0)\n",
        "svc_bag.fit(X_train_bag, y_train)\n",
        "pred_svc_bag = svc_bag.predict(X_test_bag)"
      ]
    },
    {
      "cell_type": "markdown",
      "source": [
        "##Using Multinomial Naive Bayes and training on training set"
      ],
      "metadata": {
        "id": "1_R8LzQwfnuJ"
      },
      "id": "1_R8LzQwfnuJ"
    },
    {
      "cell_type": "code",
      "execution_count": 20,
      "id": "137c164e",
      "metadata": {
        "id": "137c164e"
      },
      "outputs": [],
      "source": [
        "nb_bag = MultinomialNB()\n",
        "nb_bag.fit(X_train_bag, y_train)\n",
        "pred_nb_bag = nb_bag.predict(X_test_bag)"
      ]
    },
    {
      "cell_type": "markdown",
      "source": [
        "##Visualizing the training and prediction results"
      ],
      "metadata": {
        "id": "Q2ZoYwK2foJX"
      },
      "id": "Q2ZoYwK2foJX"
    },
    {
      "cell_type": "code",
      "execution_count": 22,
      "id": "803c91d4",
      "metadata": {
        "id": "803c91d4",
        "colab": {
          "base_uri": "https://localhost:8080/"
        },
        "outputId": "480513c5-cda2-4c7c-bef3-886a9e9b8843"
      },
      "outputs": [
        {
          "output_type": "stream",
          "name": "stdout",
          "text": [
            "Logistic Regression accuracy: 0.87\n",
            "Confusion matrix for Logistic Regression:\n",
            " [[4359  676]\n",
            " [ 604 4361]]\n",
            "Logistic Regression Classification Report:\n",
            "              precision    recall  f1-score   support\n",
            "\n",
            "    negative       0.88      0.87      0.87      5035\n",
            "    positive       0.87      0.88      0.87      4965\n",
            "\n",
            "    accuracy                           0.87     10000\n",
            "   macro avg       0.87      0.87      0.87     10000\n",
            "weighted avg       0.87      0.87      0.87     10000\n",
            "\n",
            "\n",
            "==============================\n",
            "\n",
            "Linear SVM accuracy: 0.87\n",
            "Confusion matrix for Linear SVM:\n",
            " [[4331  704]\n",
            " [ 642 4323]]\n",
            "Linear SVM Classification Report:\n",
            "              precision    recall  f1-score   support\n",
            "\n",
            "    negative       0.87      0.86      0.87      5035\n",
            "    positive       0.86      0.87      0.87      4965\n",
            "\n",
            "    accuracy                           0.87     10000\n",
            "   macro avg       0.87      0.87      0.87     10000\n",
            "weighted avg       0.87      0.87      0.87     10000\n",
            "\n",
            "\n",
            "==============================\n",
            "\n",
            "Naive Bayes accuracy: 0.84\n",
            "Confusion matrix for Naive Bayes:\n",
            " [[4274  761]\n",
            " [ 816 4149]]\n",
            "Naive Bayes Classification Report:\n",
            "              precision    recall  f1-score   support\n",
            "\n",
            "    negative       0.84      0.85      0.84      5035\n",
            "    positive       0.85      0.84      0.84      4965\n",
            "\n",
            "    accuracy                           0.84     10000\n",
            "   macro avg       0.84      0.84      0.84     10000\n",
            "weighted avg       0.84      0.84      0.84     10000\n",
            "\n"
          ]
        }
      ],
      "source": [
        "from sklearn.metrics import confusion_matrix, accuracy_score, classification_report\n",
        "acc_logistic_bag = accuracy_score(y_test, pred_logistic_bag)\n",
        "cm_logistic_bag = confusion_matrix(y_test, pred_logistic_bag)\n",
        "\n",
        "acc_svc_bag = accuracy_score(y_test, pred_svc_bag)\n",
        "cm_svc_bag = confusion_matrix(y_test, pred_svc_bag)\n",
        "\n",
        "acc_nb_bag = accuracy_score(y_test, pred_nb_bag)\n",
        "cm_nb_bag = confusion_matrix(y_test, pred_nb_bag)\n",
        "\n",
        "print(f\"Logistic Regression accuracy: {acc_logistic_bag:.2f}\")\n",
        "print(f\"Confusion matrix for Logistic Regression:\\n {cm_logistic_bag}\")\n",
        "print(\"Logistic Regression Classification Report:\")\n",
        "print(classification_report(y_test, pred_logistic_bag, target_names=['negative', 'positive']))\n",
        "\n",
        "print(\"\\n\" + \"=\"*30 + \"\\n\")\n",
        "\n",
        "print(f\"Linear SVM accuracy: {acc_svc_bag:.2f}\")\n",
        "print(f\"Confusion matrix for Linear SVM:\\n {cm_svc_bag}\")\n",
        "print(\"Linear SVM Classification Report:\")\n",
        "print(classification_report(y_test, pred_svc_bag, target_names=['negative', 'positive']))\n",
        "\n",
        "print(\"\\n\" + \"=\"*30 + \"\\n\")\n",
        "\n",
        "print(f\"Naive Bayes accuracy: {acc_nb_bag:.2f}\")\n",
        "print(f\"Confusion matrix for Naive Bayes:\\n {cm_nb_bag}\")\n",
        "print(\"Naive Bayes Classification Report:\")\n",
        "print(classification_report(y_test, pred_nb_bag, target_names=['negative', 'positive']))"
      ]
    },
    {
      "cell_type": "code",
      "source": [
        "print(f\"As we can see Logistic Regression performs best here with an accuracy of: {acc_logistic_bag:.2}\")"
      ],
      "metadata": {
        "colab": {
          "base_uri": "https://localhost:8080/"
        },
        "id": "MrVfINeeYeNk",
        "outputId": "26be3883-d54f-4ee3-c66a-bffe04a9d88a"
      },
      "id": "MrVfINeeYeNk",
      "execution_count": 24,
      "outputs": [
        {
          "output_type": "stream",
          "name": "stdout",
          "text": [
            "As we can see Logistic Regression performs best here with an accuracy of: 0.87\n"
          ]
        }
      ]
    },
    {
      "cell_type": "markdown",
      "source": [
        "##Visualizing the training and prediction results through graphs"
      ],
      "metadata": {
        "id": "K4tRtB_4prfL"
      },
      "id": "K4tRtB_4prfL"
    },
    {
      "cell_type": "code",
      "source": [
        "import matplotlib.pyplot as plt\n",
        "\n",
        "def model_plot(y_true, y_pred, model_name):\n",
        "    plt.figure(figsize=(10, 4))\n",
        "    indices = range(50)\n",
        "    plt.scatter(indices, y_true[:50], color='blue', label='Actual', alpha=0.7, s=50)\n",
        "    plt.scatter(indices, y_pred[:50], color='red', label='Predicted', alpha=0.7, s=50)\n",
        "    plt.xlabel('Review Number')\n",
        "    plt.ylabel('Positive (1) / Negative (0)')\n",
        "    plt.title(f'{model_name}: Actual vs Predicted')\n",
        "    plt.legend()\n",
        "    plt.grid(True, alpha=0.3)\n",
        "    plt.show()"
      ],
      "metadata": {
        "id": "iWgSJqrggtnR"
      },
      "id": "iWgSJqrggtnR",
      "execution_count": 33,
      "outputs": []
    },
    {
      "cell_type": "markdown",
      "source": [
        "##Logistic Regression graph"
      ],
      "metadata": {
        "id": "9USMSmf3p4i-"
      },
      "id": "9USMSmf3p4i-"
    },
    {
      "cell_type": "code",
      "source": [
        "model_plot(y_test, pred_logistic_bag, 'Logistic Regression')"
      ],
      "metadata": {
        "colab": {
          "base_uri": "https://localhost:8080/",
          "height": 410
        },
        "id": "jL-IGfhUfOE4",
        "outputId": "3552f66f-4948-4bd7-f12f-d00a4ba2f9d2"
      },
      "id": "jL-IGfhUfOE4",
      "execution_count": 30,
      "outputs": [
        {
          "output_type": "display_data",
          "data": {
            "text/plain": [
              "<Figure size 1000x400 with 1 Axes>"
            ],
            "image/png": "[encoded data removed]"
          },
          "metadata": {}
        }
      ]
    },
    {
      "cell_type": "markdown",
      "source": [
        "##Linear SVM graph"
      ],
      "metadata": {
        "id": "usibPzzgp5Fn"
      },
      "id": "usibPzzgp5Fn"
    },
    {
      "cell_type": "code",
      "source": [
        "model_plot(y_test, pred_svc_bag, 'Linear SVM')"
      ],
      "metadata": {
        "colab": {
          "base_uri": "https://localhost:8080/",
          "height": 410
        },
        "id": "ldWnifnDfwnn",
        "outputId": "eae5a546-a1c9-42a9-92ea-883f5c676a5b"
      },
      "id": "ldWnifnDfwnn",
      "execution_count": 31,
      "outputs": [
        {
          "output_type": "display_data",
          "data": {
            "text/plain": [
              "<Figure size 1000x400 with 1 Axes>"
            ],
            "image/png": "[encoded data removed]"
          },
          "metadata": {}
        }
      ]
    },
    {
      "cell_type": "markdown",
      "source": [
        "##Multinomial Naive Bayes graph"
      ],
      "metadata": {
        "id": "X-_Lv-zVp7PJ"
      },
      "id": "X-_Lv-zVp7PJ"
    },
    {
      "cell_type": "code",
      "source": [
        "model_plot(y_test, pred_nb_bag, 'Multinomial Naive Bayes')"
      ],
      "metadata": {
        "colab": {
          "base_uri": "https://localhost:8080/",
          "height": 410
        },
        "id": "HFYNXx-TgHof",
        "outputId": "08c39559-36e6-48b5-f8b2-7c2b22b83706"
      },
      "id": "HFYNXx-TgHof",
      "execution_count": 32,
      "outputs": [
        {
          "output_type": "display_data",
          "data": {
            "text/plain": [
              "<Figure size 1000x400 with 1 Axes>"
            ],
            "image/png": "[encoded data removed]"
          },
          "metadata": {}
        }
      ]
    }
  ],
  "metadata": {
    "kernelspec": {
      "display_name": "Python 3",
      "language": "python",
      "name": "python3"
    },
    "language_info": {
      "codemirror_mode": {
        "name": "ipython",
        "version": 3
      },
      "file_extension": ".py",
      "mimetype": "text/x-python",
      "name": "python",
      "nbconvert_exporter": "python",
      "pygments_lexer": "ipython3",
      "version": "3.12.4"
    },
    "colab": {
      "provenance": []
    }
  },
  "nbformat": 4,
  "nbformat_minor": 5
}